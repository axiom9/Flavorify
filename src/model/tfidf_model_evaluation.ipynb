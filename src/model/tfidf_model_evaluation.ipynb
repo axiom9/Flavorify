{
 "cells": [
  {
   "cell_type": "code",
   "execution_count": 29,
   "metadata": {},
   "outputs": [
    {
     "data": {
      "text/plain": [
       "<module 'tfidf_model' from '/Users/anasputhawala/Desktop/Winterproj/src/model/tfidf_model.py'>"
      ]
     },
     "execution_count": 29,
     "metadata": {},
     "output_type": "execute_result"
    }
   ],
   "source": [
    "from importlib import reload\n",
    "import numpy as np\n",
    "import pandas as pd\n",
    "\n",
    "import tfidf_model\n",
    "reload(tfidf_model)"
   ]
  },
  {
   "cell_type": "code",
   "execution_count": 30,
   "metadata": {},
   "outputs": [
    {
     "name": "stdout",
     "output_type": "stream",
     "text": [
      "Shape of X_train: 190468\n",
      "Shape of y_train: 190468\n",
      "\n",
      "Shape of X_val: 54420\n",
      "Shape of y_val: 54420\n",
      "\n",
      "Shape of X_test: 27210\n",
      "Shape of y_test: 27210\n"
     ]
    }
   ],
   "source": [
    "df = pd.read_csv('/Users/anasputhawala/Desktop/Winterproj/data/df_cleaned.csv', index_col=[0])\n",
    "(X_train, y_train), (X_val, y_val), (X_test, y_test) = tfidf_model.load_and_split(df, \n",
    "                                                                                    train_ratio=0.7, \n",
    "                                                                                    validation_ratio=0.2,\n",
    "                                                                                    test_ratio=0.1)\n"
   ]
  },
  {
   "cell_type": "code",
   "execution_count": null,
   "metadata": {},
   "outputs": [],
   "source": []
  }
 ],
 "metadata": {
  "kernelspec": {
   "display_name": "base",
   "language": "python",
   "name": "python3"
  },
  "language_info": {
   "codemirror_mode": {
    "name": "ipython",
    "version": 3
   },
   "file_extension": ".py",
   "mimetype": "text/x-python",
   "name": "python",
   "nbconvert_exporter": "python",
   "pygments_lexer": "ipython3",
   "version": "3.8.8"
  },
  "orig_nbformat": 4,
  "vscode": {
   "interpreter": {
    "hash": "27e2bf90d9e14c46f33b028c0dd6c4e7836b4da87bdde6d6325e44977f74edb2"
   }
  }
 },
 "nbformat": 4,
 "nbformat_minor": 2
}
