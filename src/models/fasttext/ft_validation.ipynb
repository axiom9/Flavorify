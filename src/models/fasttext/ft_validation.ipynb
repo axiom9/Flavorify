{
 "cells": [
  {
   "cell_type": "code",
   "execution_count": 9,
   "metadata": {},
   "outputs": [
    {
     "data": {
      "text/plain": [
       "<module 'fasttext_prep' from '/Users/anasputhawala/Desktop/Winterproj/src/models/fasttext/fasttext_prep.py'>"
      ]
     },
     "execution_count": 9,
     "metadata": {},
     "output_type": "execute_result"
    }
   ],
   "source": [
    "import pandas as pd\n",
    "import sys\n",
    "import importlib\n",
    "import fasttext\n",
    "\n",
    "base_dir = '/Users/anasputhawala/Desktop/Winterproj/'\n",
    "sys.path.insert(0, base_dir)\n",
    "\n",
    "from src.utils import pre_processing\n",
    "from src.models.tfidf import config_tfidf\n",
    "import fasttext_prep\n",
    "importlib.reload(pre_processing)\n",
    "importlib.reload(config_tfidf)\n",
    "importlib.reload(fasttext_prep)"
   ]
  },
  {
   "cell_type": "code",
   "execution_count": 10,
   "metadata": {},
   "outputs": [
    {
     "name": "stdout",
     "output_type": "stream",
     "text": [
      "Train and Test .txt files have successfully been saved at /Users/anasputhawala/Desktop/Winterproj/src/models/fasttext\n"
     ]
    }
   ],
   "source": [
    "fasttext_prep.load_prep_save()"
   ]
  },
  {
   "cell_type": "code",
   "execution_count": 41,
   "metadata": {},
   "outputs": [
    {
     "name": "stderr",
     "output_type": "stream",
     "text": [
      "Read 1M words\n",
      "Number of words:  88486\n",
      "Number of labels: 16\n",
      "Progress: 100.0% words/sec/thread:  910919 lr:  0.000000 avg.loss:  2.199809 ETA:   0h 0m 0s\n"
     ]
    }
   ],
   "source": [
    "train_path = '/Users/anasputhawala/Desktop/Winterproj/src/models/fasttext/train.txt'\n",
    "test_path = '/Users/anasputhawala/Desktop/Winterproj/src/models/fasttext/test.txt'\n",
    "model_ft = fasttext.train_supervised(input=train_path, wordNgrams=3, epoch=5, lr=0.15)"
   ]
  },
  {
   "cell_type": "code",
   "execution_count": 42,
   "metadata": {},
   "outputs": [
    {
     "data": {
      "text/plain": [
       "(54420, 0.2984196986402058, 0.2984196986402058)"
      ]
     },
     "execution_count": 42,
     "metadata": {},
     "output_type": "execute_result"
    }
   ],
   "source": [
    "model_ft.test(test_path)"
   ]
  },
  {
   "cell_type": "code",
   "execution_count": null,
   "metadata": {},
   "outputs": [],
   "source": []
  }
 ],
 "metadata": {
  "kernelspec": {
   "display_name": "emojify",
   "language": "python",
   "name": "python3"
  },
  "language_info": {
   "codemirror_mode": {
    "name": "ipython",
    "version": 3
   },
   "file_extension": ".py",
   "mimetype": "text/x-python",
   "name": "python",
   "nbconvert_exporter": "python",
   "pygments_lexer": "ipython3",
   "version": "3.9.6"
  },
  "orig_nbformat": 4,
  "vscode": {
   "interpreter": {
    "hash": "0de32f817056e671cdbf40ff462141a50ae4ac2f93dc11ac314f6f31243f04d4"
   }
  }
 },
 "nbformat": 4,
 "nbformat_minor": 2
}
