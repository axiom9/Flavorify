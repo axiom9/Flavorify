{
  "cells": [
    {
      "cell_type": "code",
      "execution_count": 7,
      "metadata": {
        "colab": {
          "base_uri": "https://localhost:8080/"
        },
        "id": "PmFtatAUzU3T",
        "outputId": "aca0ed99-e340-45bc-a3fc-46a1630402e8"
      },
      "outputs": [
        {
          "data": {
            "text/plain": [
              "<module 'fasttext_prep' from '/content/fasttext_prep.py'>"
            ]
          },
          "execution_count": 7,
          "metadata": {},
          "output_type": "execute_result"
        }
      ],
      "source": [
        "import importlib\n",
        "# import sys\n",
        "import tensorflow as tf\n",
        "# base_dir = '/Users/anasputhawala/Desktop/Winterproj/'\n",
        "# sys.path.insert(0, base_dir)\n",
        "\n",
        "import vanilla_model\n",
        "# from src.models.fasttext import fasttext_prep\n",
        "import fasttext_prep\n",
        "\n",
        "importlib.reload(vanilla_model)\n",
        "importlib.reload(fasttext_prep)"
      ]
    },
    {
      "cell_type": "code",
      "execution_count": 8,
      "metadata": {
        "colab": {
          "base_uri": "https://localhost:8080/"
        },
        "id": "QDNuehhkzU3X",
        "outputId": "e49d2910-6a31-4e14-d721-1e87eba644fa"
      },
      "outputs": [
        {
          "name": "stdout",
          "output_type": "stream",
          "text": [
            "Shape of X_train: (204073,)\n",
            "Shape of y_train: (204073, 16)\n",
            "\n",
            "Shape of X_val: (40815,)\n",
            "Shape of y_val: (40815, 16)\n",
            "\n",
            "Shape of X_test: (27210,)\n",
            "Shape of y_test: (27210, 16)\n"
          ]
        }
      ],
      "source": [
        "df = fasttext_prep.load_gensim()\n",
        "(X_train, y_train), (X_val, y_val), (X_test, y_test) = fasttext_prep.prep_gensim(df, tokenize=False, train_ratio=0.75, val_ratio=0.15, test_ratio=0.1)"
      ]
    },
    {
      "cell_type": "code",
      "execution_count": 13,
      "metadata": {
        "id": "dyX0ICjizU3Y"
      },
      "outputs": [],
      "source": [
        "model = vanilla_model.VanillaModel(20000, 15, 100, X_train)"
      ]
    },
    {
      "cell_type": "code",
      "execution_count": 14,
      "metadata": {
        "colab": {
          "base_uri": "https://localhost:8080/"
        },
        "id": "Xa7Ang79zU3Y",
        "outputId": "d8259675-c568-4e34-c287-cdcc37783912"
      },
      "outputs": [
        {
          "name": "stdout",
          "output_type": "stream",
          "text": [
            "Model: \"vanilla_model_1\"\n",
            "_________________________________________________________________\n",
            " Layer (type)                Output Shape              Param #   \n",
            "=================================================================\n",
            " text_vectorization_1 (TextV  multiple                 0         \n",
            " ectorization)                                                   \n",
            "                                                                 \n",
            " embedding (Embedding)       multiple                  2000000   \n",
            "                                                                 \n",
            " lstm_2 (LSTM)               multiple                  365568    \n",
            "                                                                 \n",
            " lstm_3 (LSTM)               multiple                  197120    \n",
            "                                                                 \n",
            " batch_normalization_2 (Batc  multiple                 512       \n",
            " hNormalization)                                                 \n",
            "                                                                 \n",
            " flatten_1 (Flatten)         multiple                  0         \n",
            "                                                                 \n",
            " dropout_2 (Dropout)         multiple                  0         \n",
            "                                                                 \n",
            " dense_2 (Dense)             multiple                  8256      \n",
            "                                                                 \n",
            " batch_normalization_3 (Batc  multiple                 256       \n",
            " hNormalization)                                                 \n",
            "                                                                 \n",
            " activation_1 (Activation)   multiple                  0         \n",
            "                                                                 \n",
            " dropout_3 (Dropout)         multiple                  0         \n",
            "                                                                 \n",
            " dense_3 (Dense)             multiple                  1040      \n",
            "                                                                 \n",
            "=================================================================\n",
            "Total params: 2,572,752\n",
            "Trainable params: 2,572,368\n",
            "Non-trainable params: 384\n",
            "_________________________________________________________________\n"
          ]
        }
      ],
      "source": [
        "model.build(X_train.shape)\n",
        "model.summary()"
      ]
    },
    {
      "cell_type": "code",
      "execution_count": 15,
      "metadata": {
        "colab": {
          "base_uri": "https://localhost:8080/"
        },
        "id": "vCVlQjT6zU3Z",
        "outputId": "79228404-3e5c-47f5-db62-dba1baaf28be"
      },
      "outputs": [
        {
          "name": "stdout",
          "output_type": "stream",
          "text": [
            "Epoch 1/5\n",
            "798/798 [==============================] - 16s 16ms/step - loss: 2.4427 - categorical_accuracy: 0.2268 - val_loss: 2.2768 - val_categorical_accuracy: 0.2798\n",
            "Epoch 2/5\n",
            "798/798 [==============================] - 13s 16ms/step - loss: 2.2281 - categorical_accuracy: 0.2982 - val_loss: 2.2773 - val_categorical_accuracy: 0.2798\n",
            "Epoch 3/5\n",
            "798/798 [==============================] - 12s 15ms/step - loss: 2.1427 - categorical_accuracy: 0.3270 - val_loss: 2.2471 - val_categorical_accuracy: 0.2898\n",
            "Epoch 4/5\n",
            "798/798 [==============================] - 12s 15ms/step - loss: 2.0812 - categorical_accuracy: 0.3447 - val_loss: 2.2882 - val_categorical_accuracy: 0.2924\n",
            "Epoch 5/5\n",
            "798/798 [==============================] - 12s 15ms/step - loss: 2.0311 - categorical_accuracy: 0.3601 - val_loss: 2.2796 - val_categorical_accuracy: 0.2901\n"
          ]
        }
      ],
      "source": [
        "LR=0.001\n",
        "\n",
        "model.compile(optimizer=tf.keras.optimizers.Adam(learning_rate=LR), \n",
        "              loss=tf.keras.losses.CategoricalCrossentropy(), \n",
        "              metrics=[tf.keras.metrics.CategoricalAccuracy()])\n",
        "\n",
        "history = model.fit(X_train,\n",
        "                    y_train,\n",
        "                    batch_size=256,\n",
        "                    validation_data=(X_val, y_val),\n",
        "                    validation_batch_size=256,\n",
        "                    epochs=5)"
      ]
    },
    {
      "cell_type": "code",
      "execution_count": 16,
      "metadata": {
        "colab": {
          "base_uri": "https://localhost:8080/"
        },
        "id": "_ITZ9jtC2o6o",
        "outputId": "8e27731a-e626-41f4-a485-2b9989fc8c2b"
      },
      "outputs": [
        {
          "name": "stdout",
          "output_type": "stream",
          "text": [
            "851/851 [==============================] - 5s 5ms/step - loss: 2.2823 - categorical_accuracy: 0.2854\n"
          ]
        },
        {
          "data": {
            "text/plain": [
              "[2.2823193073272705, 0.2854097783565521]"
            ]
          },
          "execution_count": 16,
          "metadata": {},
          "output_type": "execute_result"
        }
      ],
      "source": [
        "model.evaluate(X_test, y_test)"
      ]
    },
    {
      "cell_type": "markdown",
      "metadata": {
        "id": "PuWcXeLU2tyr"
      },
      "source": [
        "Performed a bit worse than tfidf"
      ]
    },
    {
      "cell_type": "code",
      "execution_count": null,
      "metadata": {
        "id": "8Bd2Pi3D2usQ"
      },
      "outputs": [],
      "source": []
    }
  ],
  "metadata": {
    "accelerator": "GPU",
    "colab": {
      "provenance": []
    },
    "gpuClass": "standard",
    "kernelspec": {
      "display_name": "base",
      "language": "python",
      "name": "python3"
    },
    "language_info": {
      "codemirror_mode": {
        "name": "ipython",
        "version": 3
      },
      "file_extension": ".py",
      "mimetype": "text/x-python",
      "name": "python",
      "nbconvert_exporter": "python",
      "pygments_lexer": "ipython3",
      "version": "3.8.8"
    },
    "orig_nbformat": 4,
    "vscode": {
      "interpreter": {
        "hash": "27e2bf90d9e14c46f33b028c0dd6c4e7836b4da87bdde6d6325e44977f74edb2"
      }
    }
  },
  "nbformat": 4,
  "nbformat_minor": 0
}
