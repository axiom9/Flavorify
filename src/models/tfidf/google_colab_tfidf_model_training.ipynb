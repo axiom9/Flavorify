{
  "cells": [
    {
      "cell_type": "code",
      "execution_count": null,
      "metadata": {
        "id": "1JwlKsH3-u5-"
      },
      "outputs": [],
      "source": [
        "# Training on colab gpu\n",
        "from google.colab import drive\n",
        "\n",
        "drive.mount('/content/gdrive')\n",
        "\n",
        "%cd /content/gdrive/MyDrive/Custom_Emojify/src/models/tfidf"
      ]
    },
    {
      "cell_type": "code",
      "execution_count": null,
      "metadata": {
        "id": "HpDoI7t_-je4"
      },
      "outputs": [],
      "source": [
        "from importlib import reload\n",
        "import numpy as np\n",
        "import pandas as pd\n",
        "\n",
        "import tfidf_model\n",
        "import config_tfidf\n",
        "\n",
        "%cd /content/gdrive/MyDrive/Custom_Emojify\n",
        "from src.utils import pre_processing\n",
        "reload(pre_processing)\n",
        "%cd /content/gdrive/MyDrive/Custom_Emojify/src/models/tfidf\n",
        "reload(tfidf_model)\n",
        "reload(config_tfidf)\n",
        "reload(pre_processing)\n"
      ]
    },
    {
      "cell_type": "code",
      "execution_count": null,
      "metadata": {
        "id": "2GHxpJ2x-je6"
      },
      "outputs": [],
      "source": [
        "df = pd.read_csv(config_tfidf.path_gdrive, index_col=[0])\n",
        "df.Text = df.Text.apply(lambda row: pre_processing.remove_extra_spaces(row)) # remove extra spaces\n",
        "df.Text = df.Text.apply(lambda row: pre_processing.hashtag_mentions_removal(row)) # Remove mentions & hashtags\n",
        "(X_train, y_train), (X_val, y_val), (X_test, y_test) = pre_processing.load_and_split(df, \n",
        "                                                                                    train_ratio=0.7, \n",
        "                                                                                    validation_ratio=0.2,\n",
        "                                                                                    test_ratio=0.1)"
      ]
    },
    {
      "cell_type": "code",
      "execution_count": null,
      "metadata": {
        "id": "pnWXvQbe-je8"
      },
      "outputs": [],
      "source": [
        "dir = '/content/gdrive/MyDrive/model_weights'\n",
        "model = tfidf_model.TfidfModel(dir=dir)\n",
        "model.build(X_train)\n",
        "model.summary()"
      ]
    },
    {
      "cell_type": "markdown",
      "metadata": {
        "id": "RuXSJyCNBNbt"
      },
      "source": [
        "Training with new data (16 total classes since I added in the flag and the christmas emoji again to see how large of an impact it actually has on model performance). My hunch is that this newly added data with classes will not be skewing the data too much and may actually even result in a slight increase in performance"
      ]
    },
    {
      "cell_type": "code",
      "execution_count": null,
      "metadata": {
        "id": "Ox9oFj58Bigi"
      },
      "outputs": [],
      "source": [
        "epochs=50\n",
        "learning_rate=0.0085\n",
        "batch_size=128\n",
        "\n",
        "history_newmodl=model.train(X_train, y_train, X_val, y_val, epochs, learning_rate, batch_size, val_model=True)"
      ]
    },
    {
      "cell_type": "code",
      "execution_count": null,
      "metadata": {
        "id": "4U5hQv9BCQE2"
      },
      "outputs": [],
      "source": [
        "model.reset_weights()\n",
        "epochs=4\n",
        "learning_rate=0.00075\n",
        "batch_size=128\n",
        "\n",
        "hist_final_newmodel=model.train(X_train, y_train, X_val, y_val, epochs, learning_rate, batch_size, val_model=False) # val mode false combines the training + val data into just training\n",
        "\n",
        "model.test(X_test, y_test, 128)"
      ]
    },
    {
      "cell_type": "markdown",
      "metadata": {
        "id": "IEDie_4gC9XT"
      },
      "source": [
        "Model categorical accuracy increased by actually adding in the two classes"
      ]
    },
    {
      "cell_type": "markdown",
      "metadata": {
        "id": "JBU4TfDZBd-S"
      },
      "source": [
        "Everything below these cells is older training (using only 14 classes)"
      ]
    },
    {
      "cell_type": "code",
      "execution_count": null,
      "metadata": {
        "id": "2mela3l8EDa0"
      },
      "outputs": [],
      "source": [
        "epochs=50\n",
        "learning_rate=0.0085\n",
        "batch_size=128\n",
        "\n",
        "history=model.train(X_train, y_train, X_val, y_val, epochs, learning_rate, batch_size, val_model=True)"
      ]
    },
    {
      "cell_type": "code",
      "execution_count": null,
      "metadata": {
        "id": "P80LKRQcJgCK"
      },
      "outputs": [],
      "source": [
        "import matplotlib.pyplot as plt\n",
        "# plotting function:\n",
        "def generate_plots(history):\n",
        "    #accuracies\n",
        "    plt.plot(history.history['categorical_accuracy'])\n",
        "    plt.plot(history.history['val_categorical_accuracy'])\n",
        "    plt.title('model accuracy')\n",
        "    plt.ylabel('accuracy')\n",
        "    plt.xlabel('epoch')\n",
        "    plt.legend(['train', 'val'], loc='upper left')\n",
        "    plt.show()\n",
        "    #loss curves\n",
        "    plt.plot(history.history['loss'])\n",
        "    plt.plot(history.history['val_loss'])\n",
        "    plt.title('model loss')\n",
        "    plt.ylabel('loss')\n",
        "    plt.xlabel('epoch')\n",
        "    plt.legend(['train', 'val'], loc='upper left')\n",
        "    plt.show()"
      ]
    },
    {
      "cell_type": "code",
      "execution_count": null,
      "metadata": {
        "id": "97PtgrlrI0ZJ"
      },
      "outputs": [],
      "source": [
        "generate_plots(history=history)"
      ]
    },
    {
      "cell_type": "markdown",
      "metadata": {
        "id": "WmIEBYk7KB5D"
      },
      "source": [
        "Let's adjust some parameters and re-try this"
      ]
    },
    {
      "cell_type": "code",
      "execution_count": null,
      "metadata": {
        "id": "LNxN28ljJ4bq"
      },
      "outputs": [],
      "source": [
        "model.reset_weights()\n",
        "epochs=25\n",
        "learning_rate=0.00045\n",
        "batch_size=256\n",
        "\n",
        "history2=model.train(X_train, y_train, X_val, y_val, epochs, learning_rate, batch_size, val_model=True)\n",
        "generate_plots(history=history2)"
      ]
    },
    {
      "cell_type": "code",
      "execution_count": null,
      "metadata": {
        "id": "oU5XeEpFKJcd"
      },
      "outputs": [],
      "source": [
        "model.reset_weights()\n",
        "epochs=25\n",
        "learning_rate=0.00055\n",
        "batch_size=128\n",
        "\n",
        "history3=model.train(X_train, y_train, X_val, y_val, epochs, learning_rate, batch_size, val_model=True)\n",
        "generate_plots(history=history3)"
      ]
    },
    {
      "cell_type": "markdown",
      "metadata": {
        "id": "Gj0WHBGB8xOK"
      },
      "source": [
        "### Let's combine the training + validation data into one training set and then re-train for around 4 - 5 epochs and save the model to evaluate performance with."
      ]
    },
    {
      "cell_type": "code",
      "execution_count": null,
      "metadata": {
        "id": "xIUm23ef8w1C"
      },
      "outputs": [],
      "source": [
        "model.reset_weights()\n",
        "epochs=3\n",
        "learning_rate=0.00075\n",
        "batch_size=128\n",
        "\n",
        "hist_final=model.train(X_train, y_train, X_val, y_val, epochs, learning_rate, batch_size, val_model=False) # val mode false combines the training + val data into just training"
      ]
    },
    {
      "cell_type": "code",
      "execution_count": null,
      "metadata": {
        "id": "sPArzkbiKsGe"
      },
      "outputs": [],
      "source": [
        "model.test(x=X_test, y=y_test, batch_size=batch_size)"
      ]
    },
    {
      "cell_type": "markdown",
      "metadata": {
        "id": "U0EvbVdn_wLR"
      },
      "source": [
        "We've received ~34% categorical accuracy"
      ]
    },
    {
      "cell_type": "code",
      "execution_count": null,
      "metadata": {
        "id": "cF9AZfaJ-vJH"
      },
      "outputs": [],
      "source": [
        "pred = model.predict(x=['Lets goooo beautiful day outside'])"
      ]
    },
    {
      "cell_type": "code",
      "execution_count": null,
      "metadata": {
        "id": "xiV4InXT_2Xb"
      },
      "outputs": [],
      "source": [
        "np.argmax(pred)"
      ]
    },
    {
      "cell_type": "code",
      "execution_count": null,
      "metadata": {
        "id": "ql_-x7lZAj_k"
      },
      "outputs": [],
      "source": [
        "model.Model.save('/content/gdrive/MyDrive/Custom_Emojify/trained_model/', save_format=\"tf\")"
      ]
    },
    {
      "cell_type": "code",
      "execution_count": null,
      "metadata": {
        "id": "1FTp8AUPA8Yi"
      },
      "outputs": [],
      "source": [
        "import tensorflow as tf\n",
        "loaded_model = tf.keras.models.load_model('/content/gdrive/MyDrive/Custom_Emojify/trained_model/')"
      ]
    },
    {
      "cell_type": "code",
      "execution_count": null,
      "metadata": {
        "id": "ygXCY8OmBKLw"
      },
      "outputs": [],
      "source": [
        "np.argmax(loaded_model.predict(x=['Lets gooo beautiful day outside']))"
      ]
    },
    {
      "cell_type": "code",
      "execution_count": null,
      "metadata": {
        "id": "OJrBKvUtBS3U"
      },
      "outputs": [],
      "source": [
        "loaded_model.evaluate(X_test, y_test, 128)"
      ]
    }
  ],
  "metadata": {
    "accelerator": "GPU",
    "colab": {
      "private_outputs": true,
      "provenance": []
    },
    "gpuClass": "standard",
    "kernelspec": {
      "display_name": "base",
      "language": "python",
      "name": "python3"
    },
    "language_info": {
      "codemirror_mode": {
        "name": "ipython",
        "version": 3
      },
      "file_extension": ".py",
      "mimetype": "text/x-python",
      "name": "python",
      "nbconvert_exporter": "python",
      "pygments_lexer": "ipython3",
      "version": "3.8.8 (default, Apr 13 2021, 12:59:45) \n[Clang 10.0.0 ]"
    },
    "orig_nbformat": 4,
    "vscode": {
      "interpreter": {
        "hash": "27e2bf90d9e14c46f33b028c0dd6c4e7836b4da87bdde6d6325e44977f74edb2"
      }
    }
  },
  "nbformat": 4,
  "nbformat_minor": 0
}
