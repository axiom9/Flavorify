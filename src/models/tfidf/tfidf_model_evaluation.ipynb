{
 "cells": [
  {
   "cell_type": "code",
   "execution_count": 2,
   "metadata": {},
   "outputs": [
    {
     "data": {
      "text/plain": [
       "<module 'config_tfidf' from '/Users/anasputhawala/Desktop/Winterproj/src/models/tfidf/config_tfidf.py'>"
      ]
     },
     "execution_count": 2,
     "metadata": {},
     "output_type": "execute_result"
    }
   ],
   "source": [
    "from importlib import reload\n",
    "import numpy as np\n",
    "import pandas as pd\n",
    "\n",
    "import tfidf_model\n",
    "import config_tfidf\n",
    "from src.utils import pre_processing\n",
    "reload(pre_processing)\n",
    "reload(tfidf_model)\n",
    "reload(config_tfidf)"
   ]
  },
  {
   "cell_type": "code",
   "execution_count": 1,
   "metadata": {},
   "outputs": [
    {
     "name": "stdout",
     "output_type": "stream",
     "text": [
      "/Users/anasputhawala/Desktop/Winterproj/src/models/tfidf\n"
     ]
    }
   ],
   "source": [
    "!pwd"
   ]
  },
  {
   "cell_type": "code",
   "execution_count": 3,
   "metadata": {},
   "outputs": [
    {
     "name": "stdout",
     "output_type": "stream",
     "text": [
      "Shape of X_train: (176507,)\n",
      "Shape of y_train: (176507, 14)\n",
      "\n",
      "Shape of X_val: (50431,)\n",
      "Shape of y_val: (50431, 14)\n",
      "\n",
      "Shape of X_test: (25216,)\n",
      "Shape of y_test: (25216, 14)\n"
     ]
    }
   ],
   "source": [
    "df = pd.read_csv(config_tfidf.path, index_col=[0])\n",
    "df.Text = df.Text.apply(lambda row: pre_processing.remove_extra_spaces(row)) # remove extra spaces\n",
    "df.Text = df.Text.apply(lambda row: pre_processing.hashtag_mentions_removal(row)) # Remove mentions & hashtags\n",
    "(X_train, y_train), (X_val, y_val), (X_test, y_test) = pre_processing.load_and_split(df, \n",
    "                                                                                    train_ratio=0.7, \n",
    "                                                                                    validation_ratio=0.2,\n",
    "                                                                                    test_ratio=0.1)"
   ]
  },
  {
   "cell_type": "code",
   "execution_count": 4,
   "metadata": {},
   "outputs": [
    {
     "name": "stdout",
     "output_type": "stream",
     "text": [
      "Model Successfully Built\n",
      "Model: \"Tfidf_Model\"\n",
      "_________________________________________________________________\n",
      " Layer (type)                Output Shape              Param #   \n",
      "=================================================================\n",
      " Input_Layer (InputLayer)    [(None, 1)]               0         \n",
      "                                                                 \n",
      " text_vectorization (TextVec  (None, 5000)             1         \n",
      " torization)                                                     \n",
      "                                                                 \n",
      " Dense1 (Dense)              (None, 1024)              5121024   \n",
      "                                                                 \n",
      " batch_normalization (BatchN  (None, 1024)             4096      \n",
      " ormalization)                                                   \n",
      "                                                                 \n",
      " tf.nn.relu (TFOpLambda)     (None, 1024)              0         \n",
      "                                                                 \n",
      " dropout1 (Dropout)          (None, 1024)              0         \n",
      "                                                                 \n",
      " Dense2 (Dense)              (None, 512)               524800    \n",
      "                                                                 \n",
      " batch_normalization_1 (Batc  (None, 512)              2048      \n",
      " hNormalization)                                                 \n",
      "                                                                 \n",
      " tf.nn.relu_1 (TFOpLambda)   (None, 512)               0         \n",
      "                                                                 \n",
      " Dense3 (Dense)              (None, 256)               131328    \n",
      "                                                                 \n",
      " batch_normalization_2 (Batc  (None, 256)              1024      \n",
      " hNormalization)                                                 \n",
      "                                                                 \n",
      " tf.nn.relu_2 (TFOpLambda)   (None, 256)               0         \n",
      "                                                                 \n",
      " dropout (Dropout)           (None, 256)               0         \n",
      "                                                                 \n",
      " Dense4 (Dense)              (None, 64)                16448     \n",
      "                                                                 \n",
      " batch_normalization_3 (Batc  (None, 64)               256       \n",
      " hNormalization)                                                 \n",
      "                                                                 \n",
      " tf.nn.relu_3 (TFOpLambda)   (None, 64)                0         \n",
      "                                                                 \n",
      " Classifier (Dense)          (None, 14)                910       \n",
      "                                                                 \n",
      " tf.nn.softmax (TFOpLambda)  (None, 14)                0         \n",
      "                                                                 \n",
      "=================================================================\n",
      "Total params: 5,801,935\n",
      "Trainable params: 5,798,222\n",
      "Non-trainable params: 3,713\n",
      "_________________________________________________________________\n",
      "Epoch 1/5\n",
      "690/690 [==============================] - 36s 50ms/step - loss: 2.1033 - categorical_accuracy: 0.3085 - val_loss: 1.9666 - val_categorical_accuracy: 0.3553 - lr: 0.0010\n",
      "Epoch 2/5\n",
      "690/690 [==============================] - 35s 51ms/step - loss: 1.8900 - categorical_accuracy: 0.3823 - val_loss: 1.9599 - val_categorical_accuracy: 0.3574 - lr: 0.0010\n",
      "Epoch 3/5\n",
      "690/690 [==============================] - 35s 51ms/step - loss: 1.7822 - categorical_accuracy: 0.4167 - val_loss: 1.9866 - val_categorical_accuracy: 0.3553 - lr: 0.0010\n",
      "Epoch 4/5\n",
      "690/690 [==============================] - 36s 52ms/step - loss: 1.6709 - categorical_accuracy: 0.4512 - val_loss: 2.0429 - val_categorical_accuracy: 0.3523 - lr: 0.0010\n",
      "Epoch 5/5\n",
      "690/690 [==============================] - 36s 53ms/step - loss: 1.5409 - categorical_accuracy: 0.4916 - val_loss: 2.1267 - val_categorical_accuracy: 0.3460 - lr: 0.0010\n"
     ]
    },
    {
     "data": {
      "text/plain": [
       "<keras.callbacks.History at 0x7fa1ef18bf10>"
      ]
     },
     "execution_count": 4,
     "metadata": {},
     "output_type": "execute_result"
    }
   ],
   "source": [
    "model = tfidf_model.TfidfModel()\n",
    "model.build(X_train)\n",
    "model.summary()\n",
    "model.train(X_train, y_train, X_val, y_val)"
   ]
  }
 ],
 "metadata": {
  "kernelspec": {
   "display_name": "base",
   "language": "python",
   "name": "python3"
  },
  "language_info": {
   "codemirror_mode": {
    "name": "ipython",
    "version": 3
   },
   "file_extension": ".py",
   "mimetype": "text/x-python",
   "name": "python",
   "nbconvert_exporter": "python",
   "pygments_lexer": "ipython3",
   "version": "3.8.8 (default, Apr 13 2021, 12:59:45) \n[Clang 10.0.0 ]"
  },
  "orig_nbformat": 4,
  "vscode": {
   "interpreter": {
    "hash": "27e2bf90d9e14c46f33b028c0dd6c4e7836b4da87bdde6d6325e44977f74edb2"
   }
  }
 },
 "nbformat": 4,
 "nbformat_minor": 2
}
