{
 "cells": [
  {
   "cell_type": "code",
   "execution_count": 1,
   "metadata": {},
   "outputs": [
    {
     "data": {
      "text/plain": [
       "<module 'tfidf_model' from '/Users/anasputhawala/Desktop/Winterproj/src/models/tfidf/tfidf_model.py'>"
      ]
     },
     "execution_count": 1,
     "metadata": {},
     "output_type": "execute_result"
    }
   ],
   "source": [
    "from importlib import reload\n",
    "import numpy as np\n",
    "import pandas as pd\n",
    "\n",
    "import tfidf_model\n",
    "from src.utils import pre_processing\n",
    "reload(pre_processing)\n",
    "reload(tfidf_model)"
   ]
  },
  {
   "cell_type": "code",
   "execution_count": 2,
   "metadata": {},
   "outputs": [
    {
     "name": "stdout",
     "output_type": "stream",
     "text": [
      "Shape of X_train: 190468\n",
      "Shape of y_train: 190468\n",
      "\n",
      "Shape of X_val: 54420\n",
      "Shape of y_val: 54420\n",
      "\n",
      "Shape of X_test: 27210\n",
      "Shape of y_test: 27210\n"
     ]
    }
   ],
   "source": [
    "df = pd.read_csv('/Users/anasputhawala/Desktop/Winterproj/data/df_cleaned.csv', index_col=[0])\n",
    "df.Text = df.Text.apply(lambda row: pre_processing.remove_extra_spaces(row)) # remove extra spaces\n",
    "df.Label = df.Label.apply(lambda row: pre_processing.re_order_labels(row)) #re-order labels\n",
    "\n",
    "(X_train, y_train), (X_val, y_val), (X_test, y_test) = tfidf_model.load_and_split(df, \n",
    "                                                                                    train_ratio=0.7, \n",
    "                                                                                    validation_ratio=0.2,\n",
    "                                                                                    test_ratio=0.1)"
   ]
  },
  {
   "cell_type": "code",
   "execution_count": 3,
   "metadata": {},
   "outputs": [
    {
     "name": "stdout",
     "output_type": "stream",
     "text": [
      "Model Successfully Built\n",
      "Model: \"Tfidf_Model\"\n",
      "_________________________________________________________________\n",
      " Layer (type)                Output Shape              Param #   \n",
      "=================================================================\n",
      " Input_Layer (InputLayer)    [(None, 1)]               0         \n",
      "                                                                 \n",
      " text_vectorization (TextVec  (None, 5000)             1         \n",
      " torization)                                                     \n",
      "                                                                 \n",
      " Dense1 (Dense)              (None, 1024)              5121024   \n",
      "                                                                 \n",
      " batch_normalization (BatchN  (None, 1024)             4096      \n",
      " ormalization)                                                   \n",
      "                                                                 \n",
      " tf.nn.relu (TFOpLambda)     (None, 1024)              0         \n",
      "                                                                 \n",
      " dropout1 (Dropout)          (None, 1024)              0         \n",
      "                                                                 \n",
      " Dense2 (Dense)              (None, 512)               524800    \n",
      "                                                                 \n",
      " batch_normalization_1 (Batc  (None, 512)              2048      \n",
      " hNormalization)                                                 \n",
      "                                                                 \n",
      " tf.nn.relu_1 (TFOpLambda)   (None, 512)               0         \n",
      "                                                                 \n",
      " Dense3 (Dense)              (None, 256)               131328    \n",
      "                                                                 \n",
      " batch_normalization_2 (Batc  (None, 256)              1024      \n",
      " hNormalization)                                                 \n",
      "                                                                 \n",
      " tf.nn.relu_2 (TFOpLambda)   (None, 256)               0         \n",
      "                                                                 \n",
      " dropout (Dropout)           (None, 256)               0         \n",
      "                                                                 \n",
      " Dense4 (Dense)              (None, 64)                16448     \n",
      "                                                                 \n",
      " batch_normalization_3 (Batc  (None, 64)               256       \n",
      " hNormalization)                                                 \n",
      "                                                                 \n",
      " tf.nn.relu_3 (TFOpLambda)   (None, 64)                0         \n",
      "                                                                 \n",
      " Classifier (Dense)          (None, 18)                1170      \n",
      "                                                                 \n",
      " tf.nn.softmax (TFOpLambda)  (None, 18)                0         \n",
      "                                                                 \n",
      "=================================================================\n",
      "Total params: 5,802,195\n",
      "Trainable params: 5,798,482\n",
      "Non-trainable params: 3,713\n",
      "_________________________________________________________________\n",
      "Epoch 1/5\n",
      "745/745 [==============================] - 38s 49ms/step - loss: 2.2656 - categorical_accuracy: 0.0920 - val_loss: 2.1119 - val_categorical_accuracy: 0.0784 - lr: 0.0010\n",
      "Epoch 2/5\n",
      "663/745 [=========================>....] - ETA: 3s - loss: 2.0214 - categorical_accuracy: 0.0831"
     ]
    }
   ],
   "source": [
    "model = tfidf_model.TfidfModel()\n",
    "model.build(X_train)\n",
    "model.summary()\n",
    "model.train(X_train, y_train, X_val, y_val)"
   ]
  }
 ],
 "metadata": {
  "kernelspec": {
   "display_name": "base",
   "language": "python",
   "name": "python3"
  },
  "language_info": {
   "codemirror_mode": {
    "name": "ipython",
    "version": 3
   },
   "file_extension": ".py",
   "mimetype": "text/x-python",
   "name": "python",
   "nbconvert_exporter": "python",
   "pygments_lexer": "ipython3",
   "version": "3.8.8"
  },
  "orig_nbformat": 4,
  "vscode": {
   "interpreter": {
    "hash": "27e2bf90d9e14c46f33b028c0dd6c4e7836b4da87bdde6d6325e44977f74edb2"
   }
  }
 },
 "nbformat": 4,
 "nbformat_minor": 2
}
